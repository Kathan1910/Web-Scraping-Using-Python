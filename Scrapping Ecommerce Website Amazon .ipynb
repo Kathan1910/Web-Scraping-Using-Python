{
 "cells": [
  {
   "cell_type": "code",
   "execution_count": 1,
   "id": "1fb405b1",
   "metadata": {},
   "outputs": [],
   "source": [
    "# Import Libraries"
   ]
  },
  {
   "cell_type": "code",
   "execution_count": 8,
   "id": "eb6f994a",
   "metadata": {},
   "outputs": [],
   "source": [
    "from autoscraper import AutoScraper"
   ]
  },
  {
   "cell_type": "code",
   "execution_count": 11,
   "id": "1a54c7f0",
   "metadata": {},
   "outputs": [],
   "source": [
    "amazon_url=\"https://www.flipkart.com/search?q=headphone&sid=0pm%2Cfcn&as=on&as-show=on&otracker=AS_QueryStore_OrganicAutoSuggest_1_4_na_na_na&otracker1=AS_QueryStore_OrganicAutoSuggest_1_4_na_na_na&as-pos=1&as-type=RECENT&suggestionId=headphone%7CHeadset&requestId=c01dd4c4-4fc8-4500-9825-3e5ebd35e5d7&as-backfill=on\"\n",
    "\n",
    "wanted_list=[\"₹395\",\"Aroma NB119C Carter 48 Hours Playing Time Fast Charging...\"]"
   ]
  },
  {
   "cell_type": "code",
   "execution_count": 12,
   "id": "dfe8fa1a",
   "metadata": {},
   "outputs": [
    {
     "name": "stdout",
     "output_type": "stream",
     "text": [
      "['₹999', '₹1,499', '₹1,699', '₹599', '₹427', '₹899', '₹543', '₹1,299', '₹2,799', '₹1,799', '₹449', '₹395', '₹1,199', '₹573', '₹1,099', '₹1,095', '₹349', '₹1,399', '₹462', '₹2,199', 'boAt Airdopes 161 with 40 Hours Playback, ASAP Charge &...', 'boAt Immortal 161 with Beast Mode(40ms Low Latency), 40...', 'OnePlus Bullets Wireless Z2 with Fast Charge, 30 Hrs Ba...', 'realme Buds 2 Wired Headset', 'OnePlus Bullets Wireless Z2 Bluetooth Headset', 'boAt Airdopes Alpha with 35 HRS Playback, 13mm Drivers,...', 'JAMMY ZONES Premium TWS I12 Twins touch sensor Bluetoot...', 'boAt Airdopes 131 with upto 60 Hours and ASAP Charge Bl...', 'Seashot M19 Earbuds/TWS/buds 5.1 Earbuds with 280H Play...', 'realme Buds Wireless 2 Neo with Type-C Fast Charge & Ba...', 'boAt Rockerz 255 Arc with ENx Technology and upto 30 Ho...', 'boAt Airdopes 161 Pro with 50 HRS Playback, ASAP Charge...', 'myxes BT PRIME Neckband Lightweight Ergonomic Bluetooth...', 'OnePlus Nord Buds 2 True Wireless Earbuds with 25dB Act...', 'OPPO Enco Buds 2 with 28 hours Battery life & Deep Nois...', 'JAMMY ZONES I7s Wireless Bluetooth Earbuds With Chargin...', 'Aroma NB119C Carter 48 Hours Playing Time Fast Charging...', 'boAt Rockerz 255 Arc with ENx Technology, Quick Switch ...', 'realme Buds Wireless 3 with 30dB ANC, 360 degree Spatia...', 'Noise Buds Combat Z with 50 Hours Playtime, Ultra-low L...', 'Boult Audio Y1 with Zen ENC Mic, 40Hrs Playtime, Fast C...', 'TXOR SENSO V 1.0 TWS EARBUDS, Bass+ 20 H Playtime & Fas...', 'realme Techlife Buds T100 with up to 28 Hours Playback ...', 'Boult Audio Airbass Z35 with ZEN ENC Mic, 32H Playtime,...', 'myxes BT Prime Wireless Bluetooth Neckband CVC Cancelli...', 'Noise Buds VS102 Neo with 40 Hrs Playtime, Environmenta...', 'Boult Audio K20 with Quad Mic ENC, 32H Battery Life, Lo...', 'boAt Rockerz 255 Pro+ /258 Pro+ with ASAP Charge and up...', 'Fastrack FPods FX100 Bluetooth Headset', 'Aroma NB119 X-RAY 50 Hours Playtime, Smart Equalizer Mo...', 'Boult Audio X1-Wired with Dual Dynamic Drivers, BoomX R...', 'boAt Immortal 131 with Beast Mode, 40 Hours Playback an...', 'NOYMI Waterproof Bluetooth wireless neckband earphone w...', 'Wings Flobuds 100 Made In India with Digital Battery Di...', 'OnePlus Nord Buds 2r True Wireless in Ear Earbuds with ...']\n"
     ]
    }
   ],
   "source": [
    "scraper=AutoScraper()\n",
    "result=scraper.build(amazon_url,wanted_list)\n",
    "print(result)"
   ]
  },
  {
   "cell_type": "code",
   "execution_count": 13,
   "id": "58ee62be",
   "metadata": {},
   "outputs": [
    {
     "data": {
      "text/plain": [
       "{'rule_ozoz': ['₹395',\n",
       "  '₹899',\n",
       "  '₹1,699',\n",
       "  '₹599',\n",
       "  '₹1,699',\n",
       "  '₹999',\n",
       "  '₹449',\n",
       "  '₹999',\n",
       "  '₹999',\n",
       "  '₹543',\n",
       "  '₹1,299',\n",
       "  '₹1,099',\n",
       "  '₹1,299',\n",
       "  '₹599',\n",
       "  '₹2,799',\n",
       "  '₹1,799',\n",
       "  '₹393',\n",
       "  '₹1,199',\n",
       "  '₹427',\n",
       "  '₹1,499',\n",
       "  '₹999',\n",
       "  '₹573',\n",
       "  '₹1,799',\n",
       "  '₹999',\n",
       "  '₹1,699',\n",
       "  '₹499',\n",
       "  '₹395',\n",
       "  '₹899',\n",
       "  '₹1,299',\n",
       "  '₹349',\n",
       "  '₹395',\n",
       "  '₹1,099',\n",
       "  '₹427',\n",
       "  '₹1,399',\n",
       "  '₹999',\n",
       "  '₹2,199',\n",
       "  '₹199',\n",
       "  '₹899',\n",
       "  '₹1,799',\n",
       "  '₹1,699'],\n",
       " 'rule_4x3l': ['Aroma NB119C Carter 48 Hours Playing Time Fast Charging...',\n",
       "  'boAt Airdopes 131 with upto 60 Hours and ASAP Charge Bl...',\n",
       "  'OnePlus Bullets Wireless Z2 with Fast Charge, 30 Hrs Ba...',\n",
       "  'realme Buds 2 Wired Headset',\n",
       "  'OnePlus Bullets Wireless Z2 Bluetooth Headset',\n",
       "  'boAt Airdopes Alpha with 35 HRS Playback, 13mm Drivers,...',\n",
       "  'JAMMY ZONES I7s Wireless Bluetooth Earbuds With Chargin...',\n",
       "  'truke BTG Storm Gaming Earbuds with 40ms Low Latency, 5...',\n",
       "  'boAt Airdopes 161 with 40 Hours Playback, ASAP Charge &...',\n",
       "  'Seashot M19 Earbuds/TWS/buds 5.1 Earbuds with 280H Play...',\n",
       "  'Noise Buds VS102 Neo with 40 Hrs Playtime, Environmenta...',\n",
       "  'boAt Rockerz 255 Pro+ /258 Pro+ with ASAP Charge and up...',\n",
       "  'realme Buds Wireless 2 Neo with Type-C Fast Charge & Ba...',\n",
       "  'myxes BT PRIME Neckband Lightweight Ergonomic Bluetooth...',\n",
       "  'OnePlus Nord Buds 2 True Wireless Earbuds with 25dB Act...',\n",
       "  'OPPO Enco Buds 2 with 28 hours Battery life & Deep Nois...',\n",
       "  'Aroma NB128 Adventure 50 Hours Playtime Fast Charging, ...',\n",
       "  'Boult Audio Y1 with Zen ENC Mic, 40Hrs Playtime, Fast C...',\n",
       "  'JAMMY ZONES Premium TWS I12 Twins touch sensor Bluetoot...',\n",
       "  'realme Techlife Buds T100 with up to 28 Hours Playback ...',\n",
       "  'Boult Audio Airbass Z35 with ZEN ENC Mic, 32H Playtime,...',\n",
       "  'TXOR SENSO V 1.0 TWS EARBUDS, Bass+ 20 H Playtime & Fas...',\n",
       "  'realme Buds Wireless 3 with 30dB ANC, 360 degree Spatia...',\n",
       "  'Noise Buds Combat Z with 50 Hours Playtime, Ultra-low L...',\n",
       "  'OnePlus Bullets Wireless Z2 Bluetooth Headset',\n",
       "  'ROXIN M19 TWS Bluetooth 5.1 Wireless Gaming Earbuds Wit...',\n",
       "  'Aroma NB119C Carter 48 Hours Playing Time Fast Charging...',\n",
       "  'Boult Audio K20 with Quad Mic ENC, 32H Battery Life, Lo...',\n",
       "  'realme Buds Wireless 2 Neo with Type-C Fast Charge & Ba...',\n",
       "  'Boult Audio X1-Wired with Dual Dynamic Drivers, BoomX R...',\n",
       "  'Aroma NB119C Carter 48 Hours Playing Time Fast Charging...',\n",
       "  'Noise Buds VS102 Neo with 40 Hrs Playtime, Environmenta...',\n",
       "  'JAMMY ZONES Premium TWS I12 Twins touch sensor Bluetoot...',\n",
       "  'boAt Immortal 131 with Beast Mode, 40 Hours Playback an...',\n",
       "  'boAt Airdopes Alpha with 35 HRS Playback, 13mm Drivers,...',\n",
       "  'OnePlus Nord Buds 2r True Wireless in Ear Earbuds with ...',\n",
       "  'Microflash S7-Deep Bass, Clear Hi-Fi Sound, Headphones ...',\n",
       "  'LEAF Move X142 Bluetooth Headset',\n",
       "  'realme Buds Wireless 3 with 30dB ANC, 360 degree Spatia...',\n",
       "  'OnePlus Bullets Wireless Z2 Bluetooth Headset']}"
      ]
     },
     "execution_count": 13,
     "metadata": {},
     "output_type": "execute_result"
    }
   ],
   "source": [
    "scraper.get_result_similar(amazon_url,grouped=True)"
   ]
  },
  {
   "cell_type": "code",
   "execution_count": 15,
   "id": "4d897765",
   "metadata": {},
   "outputs": [],
   "source": [
    "scraper.set_rule_aliases({'rule_4x3l':'Title','rule_ozoz':'Price'})\n",
    "scraper.keep_rules(['rule_4x3l','rule_ozoz'])\n",
    "scraper.save('amazon-search')"
   ]
  },
  {
   "cell_type": "code",
   "execution_count": 19,
   "id": "f7e88c9c",
   "metadata": {},
   "outputs": [],
   "source": [
    "results=scraper.get_result_similar('https://www.flipkart.com/search?q=headphones+boat&sid=0pm%2Cfcn&as=on&as-show=on&otracker=AS_QueryStore_OrganicAutoSuggest_1_4_na_na_ps&otracker1=AS_QueryStore_OrganicAutoSuggest_1_4_na_na_ps&as-pos=1&as-type=RECENT&suggestionId=headphones+boat%7CHeadset&requestId=b0cc1f0c-c472-429c-937d-1c335cfabf05&as-backfill=on',group_by_alias=True)"
   ]
  },
  {
   "cell_type": "code",
   "execution_count": 20,
   "id": "0783933f",
   "metadata": {},
   "outputs": [
    {
     "data": {
      "text/plain": [
       "['₹999',\n",
       " '₹1,099',\n",
       " '₹999',\n",
       " '₹899',\n",
       " '₹1,399',\n",
       " '₹999',\n",
       " '₹999',\n",
       " '₹1,299',\n",
       " '₹1,099',\n",
       " '₹899',\n",
       " '₹1,299',\n",
       " '₹1,499',\n",
       " '₹1,099',\n",
       " '₹899',\n",
       " '₹3,499',\n",
       " '₹1,099',\n",
       " '₹999',\n",
       " '₹1,199',\n",
       " '₹899',\n",
       " '₹399',\n",
       " '₹2,499',\n",
       " '₹1,499',\n",
       " '₹899',\n",
       " '₹1,399',\n",
       " '₹1,399',\n",
       " '₹1,299',\n",
       " '₹1,799',\n",
       " '₹1,499',\n",
       " '₹1,399',\n",
       " '₹1,599',\n",
       " '₹1,799',\n",
       " '₹1,799',\n",
       " '₹999',\n",
       " '₹2,299',\n",
       " '₹499',\n",
       " '₹1,499',\n",
       " '₹1,499',\n",
       " '₹999',\n",
       " '₹1,599',\n",
       " '₹1,499']"
      ]
     },
     "execution_count": 20,
     "metadata": {},
     "output_type": "execute_result"
    }
   ],
   "source": [
    "results['Price']"
   ]
  },
  {
   "cell_type": "code",
   "execution_count": 21,
   "id": "e0474294",
   "metadata": {},
   "outputs": [
    {
     "data": {
      "text/plain": [
       "['boAt Airdopes 161 with 40 Hours Playback, ASAP Charge &...',\n",
       " 'boAt Rockerz 255 Pro+ /258 Pro+ with ASAP Charge and up...',\n",
       " 'boAt Airdopes Alpha with 35 HRS Playback, 13mm Drivers,...',\n",
       " 'boAt Airdopes 131 with upto 60 Hours and ASAP Charge Bl...',\n",
       " 'boAt Immortal 131 with Beast Mode, 40 Hours Playback an...',\n",
       " 'boAt Airdopes Alpha with 35 HRS Playback, 13mm Drivers,...',\n",
       " 'boAt Airdopes Alpha with 35 HRS Playback, 13mm Drivers,...',\n",
       " 'boAt Rockerz 255 Arc with ENx Technology and upto 30 Ho...',\n",
       " 'boAt Rockerz 255 Pro+ /258 Pro+ with ASAP Charge and up...',\n",
       " 'boAt Rockerz 235 Pro with upto 20 Hours Playback & ASAP...',\n",
       " 'boAt Rockerz 255 Arc with ENx Technology, Quick Switch ...',\n",
       " 'boAt Rockerz Trinity with 150 Hours Playback, Crystal B...',\n",
       " 'boAt Rockerz 255 Pro+ /258 Pro+ with ASAP Charge and up...',\n",
       " 'boAt Rockerz 235 Pro with upto 20 Hours Playback & ASAP...',\n",
       " 'boAt Rockerz 551 ANC with Hybrid ANC, 100 HRS Playback,...',\n",
       " 'boAt Airdopes 131 PRO with 11mm Drivers,45Hrs Playback,...',\n",
       " 'boAt Airdopes 161 with 40 Hours Playback, ASAP Charge &...',\n",
       " 'boAt Airdopes Atom 83 with 50Hrs Playback, Quad Mics EN...',\n",
       " 'boAt Airdopes 131 with upto 60 Hours and ASAP Charge Bl...',\n",
       " 'boAt Bassheads 100 Wired Headset',\n",
       " 'boAt Airdopes 411ANC with upto 17.5 Hours Playback and ...',\n",
       " 'boAt Rockerz Trinity with 150 Hours Playback, Crystal B...',\n",
       " 'boAt Airdopes 131 with upto 60 Hours and ASAP Charge Bl...',\n",
       " 'boAt Immortal 131 with Beast Mode, 40 Hours Playback an...',\n",
       " 'boAt Rockerz 333 Upto 30 Hours Battery Bluetooth Headse...',\n",
       " 'boAt Rockerz 255 Arc with ENx Technology and upto 30 Ho...',\n",
       " 'Noise Buds Combat with 45 Hours Playtime, Ultra-low Lat...',\n",
       " 'Noise Buds VS404 with 50 Hours Playtime, ENC with Quad ...',\n",
       " 'boAt Rockerz 333 Upto 30 Hours Battery Bluetooth Headse...',\n",
       " 'boAt Rockerz 333 Pro with 60 Hours Battery Bluetooth He...',\n",
       " 'Noise Buds Combat with 45 Hours Playtime, Ultra-low Lat...',\n",
       " 'boAt Rockerz 650 with 60 Hours Battery Backup Bluetooth...',\n",
       " 'boAt Airdopes 161 Bluetooth Headset',\n",
       " 'boAt Nirvana Ion with 120 Hours Playback & Crystal Bion...',\n",
       " 'boAt Bassheads 103 Wired Headset',\n",
       " 'boAt Immortal 161 with Beast Mode(40ms Low Latency), 40...',\n",
       " 'boAt Immortal 161 with Beast Mode(40ms Low Latency), 40...',\n",
       " 'boAt Airdopes 161 with 40 Hours Playback, ASAP Charge &...',\n",
       " 'boAt Rockerz 333 Pro with 60 Hours Battery Bluetooth He...',\n",
       " 'boAt Rockerz 378 with Spatial Bionic Sound by THX, ASAP...']"
      ]
     },
     "execution_count": 21,
     "metadata": {},
     "output_type": "execute_result"
    }
   ],
   "source": [
    "results['Title']"
   ]
  },
  {
   "cell_type": "code",
   "execution_count": null,
   "id": "67c7e3a8",
   "metadata": {},
   "outputs": [],
   "source": []
  }
 ],
 "metadata": {
  "kernelspec": {
   "display_name": "myenv",
   "language": "python",
   "name": "mynev"
  },
  "language_info": {
   "codemirror_mode": {
    "name": "ipython",
    "version": 3
   },
   "file_extension": ".py",
   "mimetype": "text/x-python",
   "name": "python",
   "nbconvert_exporter": "python",
   "pygments_lexer": "ipython3",
   "version": "3.9.13"
  }
 },
 "nbformat": 4,
 "nbformat_minor": 5
}
