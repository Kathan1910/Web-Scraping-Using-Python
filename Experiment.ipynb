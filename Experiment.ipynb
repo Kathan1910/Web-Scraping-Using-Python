{
 "cells": [
  {
   "cell_type": "code",
   "execution_count": 1,
   "id": "9166f915",
   "metadata": {},
   "outputs": [
    {
     "name": "stdout",
     "output_type": "stream",
     "text": [
      "Collecting autoscraper\n",
      "  Downloading autoscraper-1.1.14-py3-none-any.whl (10 kB)\n",
      "Requirement already satisfied: requests in c:\\users\\kathan\\anaconda3\\envs\\myenv\\lib\\site-packages (from autoscraper) (2.28.1)\n",
      "Requirement already satisfied: lxml in c:\\users\\kathan\\anaconda3\\envs\\myenv\\lib\\site-packages (from autoscraper) (4.9.1)\n",
      "Collecting bs4\n",
      "  Downloading bs4-0.0.1.tar.gz (1.1 kB)\n",
      "  Preparing metadata (setup.py): started\n",
      "  Preparing metadata (setup.py): finished with status 'done'\n",
      "Requirement already satisfied: beautifulsoup4 in c:\\users\\kathan\\anaconda3\\envs\\myenv\\lib\\site-packages (from bs4->autoscraper) (4.11.1)\n",
      "Requirement already satisfied: idna<4,>=2.5 in c:\\users\\kathan\\anaconda3\\envs\\myenv\\lib\\site-packages (from requests->autoscraper) (3.3)\n",
      "Requirement already satisfied: certifi>=2017.4.17 in c:\\users\\kathan\\anaconda3\\envs\\myenv\\lib\\site-packages (from requests->autoscraper) (2022.9.24)\n",
      "Requirement already satisfied: charset-normalizer<3,>=2 in c:\\users\\kathan\\anaconda3\\envs\\myenv\\lib\\site-packages (from requests->autoscraper) (2.1.1)\n",
      "Requirement already satisfied: urllib3<1.27,>=1.21.1 in c:\\users\\kathan\\anaconda3\\envs\\myenv\\lib\\site-packages (from requests->autoscraper) (1.26.11)\n",
      "Requirement already satisfied: soupsieve>1.2 in c:\\users\\kathan\\anaconda3\\envs\\myenv\\lib\\site-packages (from beautifulsoup4->bs4->autoscraper) (2.3.2.post1)\n",
      "Building wheels for collected packages: bs4\n",
      "  Building wheel for bs4 (setup.py): started\n",
      "  Building wheel for bs4 (setup.py): finished with status 'done'\n",
      "  Created wheel for bs4: filename=bs4-0.0.1-py3-none-any.whl size=1272 sha256=f6512be672d00ca6e61961b70c38603170c5f8495a972d5bf8b916d5899f9e92\n",
      "  Stored in directory: c:\\users\\kathan\\appdata\\local\\pip\\cache\\wheels\\73\\2b\\cb\\099980278a0c9a3e57ff1a89875ec07bfa0b6fcbebb9a8cad3\n",
      "Successfully built bs4\n",
      "Installing collected packages: bs4, autoscraper\n",
      "Successfully installed autoscraper-1.1.14 bs4-0.0.1\n"
     ]
    },
    {
     "name": "stderr",
     "output_type": "stream",
     "text": [
      "WARNING: Ignoring invalid distribution -rotobuf (c:\\users\\kathan\\anaconda3\\envs\\myenv\\lib\\site-packages)\n",
      "WARNING: Ignoring invalid distribution -rotobuf (c:\\users\\kathan\\anaconda3\\envs\\myenv\\lib\\site-packages)\n",
      "WARNING: Ignoring invalid distribution -rotobuf (c:\\users\\kathan\\anaconda3\\envs\\myenv\\lib\\site-packages)\n",
      "WARNING: Ignoring invalid distribution -rotobuf (c:\\users\\kathan\\anaconda3\\envs\\myenv\\lib\\site-packages)\n",
      "WARNING: Ignoring invalid distribution -rotobuf (c:\\users\\kathan\\anaconda3\\envs\\myenv\\lib\\site-packages)\n",
      "WARNING: Ignoring invalid distribution -rotobuf (c:\\users\\kathan\\anaconda3\\envs\\myenv\\lib\\site-packages)\n",
      "WARNING: Ignoring invalid distribution -rotobuf (c:\\users\\kathan\\anaconda3\\envs\\myenv\\lib\\site-packages)\n",
      "WARNING: Ignoring invalid distribution -rotobuf (c:\\users\\kathan\\anaconda3\\envs\\myenv\\lib\\site-packages)\n"
     ]
    }
   ],
   "source": [
    "!pip install autoscraper"
   ]
  },
  {
   "cell_type": "code",
   "execution_count": 3,
   "id": "9ecd0210",
   "metadata": {},
   "outputs": [],
   "source": [
    "from autoscraper import AutoScraper"
   ]
  },
  {
   "cell_type": "code",
   "execution_count": 5,
   "id": "9e976f69",
   "metadata": {},
   "outputs": [
    {
     "name": "stdout",
     "output_type": "stream",
     "text": [
      "['1', '0', 'End-to-end-Machine-Learning-Project-Using-MLFlow-', 'Project_Materials', 'Number-Plate-Detection-Using-OpenCV', 'Book-Recommendation-System', 'Movie-Recommendation-System', 'FlaskDemo', 'Text-Summarization', 'Reference-Materials', 'BostonHousePricing', 'Advance-House-Price-Prediction', 'Chicken-Disease-Classification-Project', 'Air-Quality-Index-AQI-Prediction', 'Email-SMS-Spam-Classification', 'Building-Extraction-From-Satellite-Imagery', 'GIS-Based-Query-Classifier', 'kathan1910']\n"
     ]
    }
   ],
   "source": [
    "url = 'https://github.com/Kathan1910?tab=repositories'\n",
    "\n",
    "wanted_list = ['1',\"Number-Plate-Detection-Using-OpenCV\"]\n",
    "\n",
    "scraper = AutoScraper()\n",
    "\n",
    "result = scraper.build(url,wanted_list)\n",
    "\n",
    "print(result)"
   ]
  },
  {
   "cell_type": "code",
   "execution_count": 6,
   "id": "3b57dd02",
   "metadata": {},
   "outputs": [
    {
     "data": {
      "text/plain": [
       "{'rule_bvvn': ['1', '1', '1', '1'],\n",
       " 'rule_d6u0': ['1', '1', '1', '1'],\n",
       " 'rule_jdv4': ['1', '1', '1', '1'],\n",
       " 'rule_iem8': ['1', '1', '1', '1'],\n",
       " 'rule_8c3d': ['0', '1'],\n",
       " 'rule_byl7': ['End-to-end-Machine-Learning-Project-Using-MLFlow-',\n",
       "  'Project_Materials',\n",
       "  'Number-Plate-Detection-Using-OpenCV',\n",
       "  'Book-Recommendation-System',\n",
       "  'Movie-Recommendation-System',\n",
       "  'FlaskDemo',\n",
       "  'Text-Summarization',\n",
       "  'Reference-Materials',\n",
       "  'BostonHousePricing',\n",
       "  'Advance-House-Price-Prediction',\n",
       "  'Chicken-Disease-Classification-Project',\n",
       "  'Air-Quality-Index-AQI-Prediction',\n",
       "  'Email-SMS-Spam-Classification',\n",
       "  'Building-Extraction-From-Satellite-Imagery',\n",
       "  'GIS-Based-Query-Classifier',\n",
       "  'kathan1910']}"
      ]
     },
     "execution_count": 6,
     "metadata": {},
     "output_type": "execute_result"
    }
   ],
   "source": [
    "scraper.get_result_similar(\"https://github.com/Kathan1910?tab=repositories\",grouped=True)"
   ]
  },
  {
   "cell_type": "code",
   "execution_count": 9,
   "id": "42eb8b51",
   "metadata": {},
   "outputs": [],
   "source": [
    "scraper.set_rule_aliases({'rule_bvvn':'Stars' , \"rule_byl7\":'Title'})\n",
    "scraper.keep_rules(['rule_bvvn',\"rule_byl7\"])\n",
    "scraper.save('github-repo-search')"
   ]
  },
  {
   "cell_type": "code",
   "execution_count": 10,
   "id": "6c16763f",
   "metadata": {},
   "outputs": [],
   "source": [
    "scraper.load('github-repo-search')"
   ]
  },
  {
   "cell_type": "code",
   "execution_count": 18,
   "id": "bdddda9e",
   "metadata": {},
   "outputs": [],
   "source": [
    "result=scraper.get_result_similar('https://github.com/campusx-official?tab=repositories',group_by_alias=True)"
   ]
  },
  {
   "cell_type": "code",
   "execution_count": 20,
   "id": "c392e405",
   "metadata": {},
   "outputs": [
    {
     "data": {
      "text/plain": [
       "['dsmp-capstone-project',\n",
       " '100-days-of-machine-learning',\n",
       " 'whatsapp-chat-analysis',\n",
       " 'ML-Roadmap-for-2022',\n",
       " 'olympics-data-analysis-web-app',\n",
       " 'campusx-official',\n",
       " 'matrix-linear-transformation-viz',\n",
       " 'normal-distribution-vs-t-distribution',\n",
       " 'z-distribution-confidence-interval',\n",
       " 'confidence-interval-viz',\n",
       " 'book-recommender-system',\n",
       " 'sms-spam-classifier',\n",
       " 'laptop-price-predictor-regression-project',\n",
       " 'flights-sql-app',\n",
       " 'posenet-demo-ml5js',\n",
       " 'advanced-web-scraping',\n",
       " 'pandas-io',\n",
       " 'new-git-app',\n",
       " 'dsa-using-python',\n",
       " 'india-data-viz-mini-project',\n",
       " 'sample-project-for-streamlit-deployment',\n",
       " 'streamlit-basics',\n",
       " 'streamlit-test-app',\n",
       " '100-days-of-python-programming',\n",
       " 'ipl-web-app',\n",
       " 'ipl-api-service',\n",
       " 'nlp-web-app',\n",
       " 'aws-demo-app',\n",
       " 'nlpapp',\n",
       " 'portfolio-website-demo']"
      ]
     },
     "execution_count": 20,
     "metadata": {},
     "output_type": "execute_result"
    }
   ],
   "source": [
    "result['Title']"
   ]
  },
  {
   "cell_type": "code",
   "execution_count": 21,
   "id": "e47e7738",
   "metadata": {},
   "outputs": [
    {
     "data": {
      "text/plain": [
       "['6',\n",
       " '545',\n",
       " '48',\n",
       " '525',\n",
       " '19',\n",
       " '30',\n",
       " '11',\n",
       " '6',\n",
       " '3',\n",
       " '4',\n",
       " '54',\n",
       " '50',\n",
       " '45',\n",
       " '6',\n",
       " '10',\n",
       " '9',\n",
       " '6',\n",
       " '3',\n",
       " '33',\n",
       " '3',\n",
       " '4',\n",
       " '4',\n",
       " '2',\n",
       " '39',\n",
       " '4',\n",
       " '2',\n",
       " '5',\n",
       " '9',\n",
       " '3',\n",
       " '5']"
      ]
     },
     "execution_count": 21,
     "metadata": {},
     "output_type": "execute_result"
    }
   ],
   "source": [
    "result['Stars']"
   ]
  },
  {
   "cell_type": "markdown",
   "id": "91d52e10",
   "metadata": {},
   "source": [
    "# Steps : \n",
    "\n",
    "from autoscraper import AutoScraper\n",
    "\n",
    "url = 'https://github.com/Kathan1910?tab=repositories'\n",
    "\n",
    "wanted_list = ['1',\"Number-Plate-Detection-Using-OpenCV\"]\n",
    "\n",
    "scraper = AutoScraper()\n",
    "\n",
    "result = scraper.build(url,wanted_list)\n",
    "\n",
    "print(result)\n",
    "\n",
    "scraper.get_result_similar(\"https://github.com/Kathan1910?tab=repositories\",grouped=True)\n",
    "\n",
    "scraper.load('github-repo-search')\n",
    "\n",
    "result=scraper.get_result_similar('https://github.com/campusx-official?tab=repositories',group_by_alias=True)\n",
    "\n",
    "result['Title']\n",
    "\n",
    "result['Stars']"
   ]
  },
  {
   "cell_type": "code",
   "execution_count": null,
   "id": "72761576",
   "metadata": {},
   "outputs": [],
   "source": []
  },
  {
   "cell_type": "code",
   "execution_count": null,
   "id": "d5c51ab8",
   "metadata": {},
   "outputs": [],
   "source": []
  },
  {
   "cell_type": "code",
   "execution_count": null,
   "id": "52247b79",
   "metadata": {},
   "outputs": [],
   "source": []
  }
 ],
 "metadata": {
  "kernelspec": {
   "display_name": "myenv",
   "language": "python",
   "name": "mynev"
  },
  "language_info": {
   "codemirror_mode": {
    "name": "ipython",
    "version": 3
   },
   "file_extension": ".py",
   "mimetype": "text/x-python",
   "name": "python",
   "nbconvert_exporter": "python",
   "pygments_lexer": "ipython3",
   "version": "3.9.13"
  }
 },
 "nbformat": 4,
 "nbformat_minor": 5
}
